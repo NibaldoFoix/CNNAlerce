{
 "cells": [
  {
   "cell_type": "code",
   "execution_count": 1,
   "metadata": {},
   "outputs": [],
   "source": [
    "import pandas as pd\n",
    "import math \n",
    "import matplotlib.pyplot as plt\n",
    "import numpy as np\n",
    "import random\n",
    "import tensorflow as tf\n",
    "import pickle\n",
    "import Sets"
   ]
  },
  {
   "cell_type": "code",
   "execution_count": 2,
   "metadata": {},
   "outputs": [],
   "source": [
    "#leemos los datos\n",
    "datos=pd.read_pickle('ALERCE_stamps_2020_norm.pkl', compression='infer')"
   ]
  },
  {
   "cell_type": "code",
   "execution_count": 3,
   "metadata": {},
   "outputs": [],
   "source": [
    "#Construcción de sets:\n",
    "x_train, x_val, x_test, y_train, y_val, y_test = Sets.build_sets(datos)\n",
    "#Liberar memoria\n",
    "del datos"
   ]
  },
  {
   "cell_type": "code",
   "execution_count": 15,
   "metadata": {},
   "outputs": [],
   "source": [
    "#Clasificador\n",
    "model = tf.keras.Sequential()\n",
    "\n",
    "#Parte convolucional\n",
    "model.add(tf.keras.layers.Conv2D(16, kernel_size=(3, 3), input_shape=(21, 21, 3), activation='relu'))\n",
    "model.add(tf.keras.layers.Conv2D(32, kernel_size=(3, 3), activation='relu'))\n",
    "model.add(tf.keras.layers.MaxPooling2D(pool_size=(2, 2)))\n",
    "model.add(tf.keras.layers.Conv2D(64, kernel_size=(3, 3), activation='relu'))\n",
    "model.add(tf.keras.layers.Conv2D(128, kernel_size=(3, 3), activation='relu'))\n",
    "model.add(tf.keras.layers.MaxPooling2D(pool_size=(2, 2)))\n",
    "\n",
    "#Fully-connected\n",
    "model.add(tf.keras.layers.Flatten())\n",
    "model.add(tf.keras.layers.Dense(100, activation='relu'))\n",
    "model.add(tf.keras.layers.Dropout(0.5))\n",
    "model.add(tf.keras.layers.Dense(5, activation='softmax'))\n",
    "\n",
    "loss = tf.keras.losses.SparseCategoricalCrossentropy(from_logits=True)\n",
    "optimizer = tf.keras.optimizers.SGD(learning_rate=0.01)\n",
    "model.compile(optimizer, loss, metrics=['accuracy'])"
   ]
  },
  {
   "cell_type": "code",
   "execution_count": 16,
   "metadata": {},
   "outputs": [
    {
     "name": "stdout",
     "output_type": "stream",
     "text": [
      "Epoch 1/5\n",
      "1566/1566 [==============================] - 31s 20ms/step - loss: 1.5341 - accuracy: 0.3709 - val_loss: 1.5340 - val_accuracy: 0.3680\n",
      "Epoch 2/5\n",
      "1566/1566 [==============================] - 32s 20ms/step - loss: 1.4004 - accuracy: 0.5018 - val_loss: 1.4824 - val_accuracy: 0.4160\n",
      "Epoch 3/5\n",
      "1566/1566 [==============================] - 32s 20ms/step - loss: 1.3520 - accuracy: 0.5482 - val_loss: 1.4581 - val_accuracy: 0.4340\n",
      "Epoch 4/5\n",
      "1566/1566 [==============================] - 32s 20ms/step - loss: 1.2794 - accuracy: 0.6340 - val_loss: 1.3624 - val_accuracy: 0.5400\n",
      "Epoch 5/5\n",
      "1566/1566 [==============================] - 32s 21ms/step - loss: 1.2435 - accuracy: 0.6647 - val_loss: 1.3971 - val_accuracy: 0.4920\n"
     ]
    }
   ],
   "source": [
    "#Entrenamiento:\n",
    "summary = model.fit(x=x_train, y=y_train, batch_size=32, epochs=5, verbose=1, validation_data=(x_val, y_val), shuffle=True)"
   ]
  },
  {
   "cell_type": "code",
   "execution_count": 17,
   "metadata": {},
   "outputs": [
    {
     "name": "stdout",
     "output_type": "stream",
     "text": [
      "32/32 [==============================] - 0s 4ms/step - loss: 1.3793 - accuracy: 0.5140\n"
     ]
    },
    {
     "data": {
      "text/plain": [
       "[1.3793425559997559, 0.5139999985694885]"
      ]
     },
     "execution_count": 17,
     "metadata": {},
     "output_type": "execute_result"
    }
   ],
   "source": [
    "#Testing\n",
    "model.evaluate(x=x_test, y=y_test, batch_size=32, verbose=1)"
   ]
  },
  {
   "cell_type": "code",
   "execution_count": null,
   "metadata": {},
   "outputs": [],
   "source": []
  }
 ],
 "metadata": {
  "kernelspec": {
   "display_name": "Python 3",
   "language": "python",
   "name": "python3"
  },
  "language_info": {
   "codemirror_mode": {
    "name": "ipython",
    "version": 3
   },
   "file_extension": ".py",
   "mimetype": "text/x-python",
   "name": "python",
   "nbconvert_exporter": "python",
   "pygments_lexer": "ipython3",
   "version": "3.8.5"
  }
 },
 "nbformat": 4,
 "nbformat_minor": 4
}
