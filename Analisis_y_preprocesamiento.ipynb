{
 "cells": [
  {
   "cell_type": "code",
   "execution_count": 1,
   "metadata": {},
   "outputs": [],
   "source": [
    "import pandas as pd\n",
    "import math \n",
    "import matplotlib.pyplot as plt\n",
    "import numpy as np\n",
    "import random\n",
    "import pickle"
   ]
  },
  {
   "cell_type": "markdown",
   "metadata": {},
   "source": [
    "### Analisis de Datos"
   ]
  },
  {
   "cell_type": "code",
   "execution_count": 2,
   "metadata": {},
   "outputs": [],
   "source": [
    "#leemos los datos\n",
    "datos=pd.read_pickle('ALERCE_stamps_2020.pkl', compression='infer')"
   ]
  },
  {
   "cell_type": "code",
   "execution_count": 3,
   "metadata": {},
   "outputs": [
    {
     "name": "stdout",
     "output_type": "stream",
     "text": [
      "images\n",
      "labels\n",
      "metadata\n"
     ]
    }
   ],
   "source": [
    "#queremos saber que posee este diccionario\n",
    "for i in datos:\n",
    "    print(i)"
   ]
  },
  {
   "cell_type": "code",
   "execution_count": 4,
   "metadata": {},
   "outputs": [
    {
     "name": "stdout",
     "output_type": "stream",
     "text": [
      "tamaño images: 52244\n"
     ]
    }
   ],
   "source": [
    "#miramos cuantos datos posee imagenes\n",
    "print('tamaño images: '+str(len(datos['images'])))"
   ]
  },
  {
   "cell_type": "code",
   "execution_count": 5,
   "metadata": {},
   "outputs": [
    {
     "name": "stdout",
     "output_type": "stream",
     "text": [
      "tamaño labels: 52244\n",
      "tamaño metadata: 52244\n"
     ]
    }
   ],
   "source": [
    "#verificamos si los otros indices poseen la misma cantidad de datos\n",
    "print('tamaño labels: '+str(len(datos['labels'])))\n",
    "print('tamaño metadata: '+str(len(datos['metadata'])))"
   ]
  },
  {
   "cell_type": "code",
   "execution_count": 6,
   "metadata": {},
   "outputs": [
    {
     "name": "stdout",
     "output_type": "stream",
     "text": [
      "Primer Componente dentro de images:\n",
      "tipo de data: <class 'numpy.ndarray'>\n",
      "tamaño : 63\n",
      "\n",
      "Segundo componente dentro de images:\n",
      "tipo de data: <class 'numpy.ndarray'>\n",
      "tamaño : 63\n",
      "\n",
      "Tercer componente dentro de images:\n",
      "tipo de data: <class 'numpy.ndarray'>\n",
      "tamaño : 3\n"
     ]
    }
   ],
   "source": [
    "#poseen la misma cantidad, vamos oberservando qué se encuentra en cada indice del diccionario\n",
    "print('Primer Componente dentro de images:')\n",
    "print('tipo de data: '+str(type((datos['images'][0]))))\n",
    "print('tamaño : '+str(len((datos['images'][0])))+'\\n')\n",
    "\n",
    "print('Segundo componente dentro de images:')\n",
    "print('tipo de data: '+str(type((datos['images'][0][0]))))\n",
    "print('tamaño : '+str(len((datos['images'][0][0])))+'\\n')\n",
    "\n",
    "print('Tercer componente dentro de images:')\n",
    "print('tipo de data: '+str(type((datos['images'][0][0][0]))))\n",
    "print('tamaño : '+str(len((datos['images'][0][0][0]))))\n"
   ]
  },
  {
   "cell_type": "code",
   "execution_count": 7,
   "metadata": {},
   "outputs": [
    {
     "name": "stdout",
     "output_type": "stream",
     "text": [
      "Ejemplo de datos aleatorios \n",
      "\n",
      "Labels:\n",
      "1\n",
      "Metadata:\n",
      "[0.04783330112695694 7.248107433319092 1.0 12.351686477661133\n",
      " 0.861274003982544 14.591768264770508 0 4.619999885559082\n",
      " 19.043861389160156 0.13484223186969757 212.68586 -8.2040369\n",
      " 19.90457534790039 0.9070000052452087 2 60 4.685760662351477\n",
      " 213.29822110820405 49.78237184526629 334.25792680085254 58\n",
      " 0.9490000009536743 0.09000000357627869]\n",
      "\n",
      " Posibles labels en data:\n",
      "1\n",
      "0\n",
      "2\n",
      "4\n",
      "3\n"
     ]
    }
   ],
   "source": [
    "'''\n",
    "Notamos que dentro de images hay fotos 3 'fotos' de 63x63 pixeles.\n",
    "'''\n",
    "#Miramos los datos que contiene labels y metadata\n",
    "print('Ejemplo de datos aleatorios \\n')\n",
    "print('Labels:')\n",
    "print(datos['labels'][455])\n",
    "print('Metadata:')\n",
    "print(datos['metadata'][534])\n",
    "\n",
    "#vemos que otros datos hay en labels:\n",
    "print('\\n Posibles labels en data:')\n",
    "a=[]\n",
    "for i in datos['labels']:\n",
    "    if i not in a:\n",
    "        a.append(i)\n",
    "        print(i)\n",
    "        \n"
   ]
  },
  {
   "cell_type": "markdown",
   "metadata": {},
   "source": [
    "### Preprocesamiento de datos"
   ]
  },
  {
   "cell_type": "code",
   "execution_count": 8,
   "metadata": {},
   "outputs": [
    {
     "name": "stdout",
     "output_type": "stream",
     "text": [
      "# Imagenes no cuadradas: 650\n",
      "\n",
      " Nuevo largo de data: 51594\n"
     ]
    }
   ],
   "source": [
    "#cantidad de imagenes no cuadradas:\n",
    "list_of_indexes=[]\n",
    "for i in range(len(datos['images'])):\n",
    "    if len(datos['images'][i])!=len(datos['images'][i][0]):\n",
    "        list_of_indexes.append(i)\n",
    "\n",
    "cantidad=len(list_of_indexes)\n",
    "\n",
    "sumando=0\n",
    "#creamos este indice ya que al sacar un indice de la lista, todos los indices se resta uno\n",
    "#si vamos del mas pequeño al mas grande\n",
    "for i in list_of_indexes:\n",
    "    #lo sacamos de la data:\n",
    "    datos['images'].pop(i-sumando)\n",
    "    datos['labels'].pop(i-sumando)\n",
    "    datos['metadata'].pop(i-sumando)\n",
    "    sumando+=1\n",
    "        \n",
    "print('# Imagenes no cuadradas: '+str(cantidad))\n",
    "print('\\n Nuevo largo de data: '+str(len(datos['images'])))\n",
    "        "
   ]
  },
  {
   "cell_type": "code",
   "execution_count": 9,
   "metadata": {},
   "outputs": [
    {
     "name": "stdout",
     "output_type": "stream",
     "text": [
      "# pixeles == NaN: 9743759\n",
      "Cambiados a 0 con exito\n"
     ]
    }
   ],
   "source": [
    "#vemos cuantos datos son NaN y lo cambiamos a 0\n",
    "\n",
    "cantidad=0\n",
    "#matriz\n",
    "for i in range(len(datos['images'])):\n",
    "    array_nan_index=np.argwhere(np.isnan(datos['images'][i]))\n",
    "    for j in array_nan_index:\n",
    "        index_fila=j[0]\n",
    "        index_columna=j[1]\n",
    "        index_muestra=j[2]\n",
    "        datos['images'][i][index_fila][index_columna][index_muestra]=0\n",
    "    cantidad+=len(array_nan_index)\n",
    "        \n",
    "print('# pixeles == NaN: '+str(cantidad))   \n",
    "print('Cambiados a 0 con exito')"
   ]
  },
  {
   "cell_type": "code",
   "execution_count": 10,
   "metadata": {},
   "outputs": [],
   "source": [
    "def normalizar(matrix,matrix_zero,muestra):\n",
    "    \"\"\" recibe matrix y la devuelve normalizada\n",
    "    \"\"\"\n",
    "    maximo=np.amax(matrix[:,:,muestra])\n",
    "    minimo=np.amin(matrix[:,:,muestra])\n",
    "    matrix_zero[:,:,muestra]=(matrix[:,:,muestra]-minimo)/maximo\n",
    "    return matrix_zero"
   ]
  },
  {
   "cell_type": "code",
   "execution_count": 11,
   "metadata": {},
   "outputs": [
    {
     "name": "stdout",
     "output_type": "stream",
     "text": [
      "Normalización hecha con exito\n"
     ]
    }
   ],
   "source": [
    "#vamos viendo maximos y minimos, y normalizando\n",
    "\n",
    "#matriz\n",
    "dic={'images_norm':[]}\n",
    "\n",
    "contador=1\n",
    "for i in range(len(datos['images'])):\n",
    "    matrix_image=datos['images'][i]\n",
    "    matriz_zeros_paranormalizar=np.zeros((len(matrix_image),len(matrix_image[0]),3))\n",
    "    #3 muestras\n",
    "    for z in range(3):\n",
    "        matriz_zeros_paranormalizar=normalizar(matrix_image,matriz_zeros_paranormalizar,z)\n",
    "    dic['images_norm'].append(matriz_zeros_paranormalizar)\n",
    "    contador+=1\n",
    "\n",
    "datos.update(dic)        \n",
    "print('Normalización hecha con exito')  \n"
   ]
  },
  {
   "cell_type": "code",
   "execution_count": 12,
   "metadata": {},
   "outputs": [
    {
     "data": {
      "text/plain": [
       "51594"
      ]
     },
     "execution_count": 12,
     "metadata": {},
     "output_type": "execute_result"
    }
   ],
   "source": [
    "#Observamos si tienen la misma cantidad de imagenes\n",
    "len(datos['images_norm'])"
   ]
  },
  {
   "cell_type": "code",
   "execution_count": 13,
   "metadata": {},
   "outputs": [
    {
     "data": {
      "text/plain": [
       "<matplotlib.image.AxesImage at 0x24a2cd41b80>"
      ]
     },
     "execution_count": 13,
     "metadata": {},
     "output_type": "execute_result"
    },
    {
     "data": {
      "image/png": "[encoded data removed]",
      "text/plain": [
       "<Figure size 432x288 with 1 Axes>"
      ]
     },
     "metadata": {
      "needs_background": "light"
     },
     "output_type": "display_data"
    }
   ],
   "source": [
    "#Muestra 2 de la imagen 56 no normalizada\n",
    "plt.imshow(datos['images'][56][:,:,2])"
   ]
  },
  {
   "cell_type": "code",
   "execution_count": 14,
   "metadata": {},
   "outputs": [
    {
     "data": {
      "text/plain": [
       "<matplotlib.image.AxesImage at 0x24a2cd837f0>"
      ]
     },
     "execution_count": 14,
     "metadata": {},
     "output_type": "execute_result"
    },
    {
     "data": {
      "image/png": "[encoded data removed]",
      "text/plain": [
       "<Figure size 432x288 with 1 Axes>"
      ]
     },
     "metadata": {
      "needs_background": "light"
     },
     "output_type": "display_data"
    }
   ],
   "source": [
    "#Muestra 2 de la imagen 56  normalizada\n",
    "plt.imshow(datos['images_norm'][56][:,:,2])"
   ]
  },
  {
   "cell_type": "markdown",
   "metadata": {},
   "source": [
    "Observamos que es la misma imagen por lo que la normalización fue realizada con exito en terminos de reescalar los valores sin alterar la imagen que se observa"
   ]
  },
  {
   "cell_type": "code",
   "execution_count": 15,
   "metadata": {},
   "outputs": [],
   "source": [
    "#Borrar imagenes no normalizadas\n",
    "del datos['images']"
   ]
  },
  {
   "cell_type": "code",
   "execution_count": 16,
   "metadata": {},
   "outputs": [],
   "source": [
    "# Función para recortar centros de las imagenes\n",
    "def recorte(imagen):\n",
    "    inicio = imagen[21:42]\n",
    "    recorte = np.zeros([21, 21, 3])\n",
    "    for i in range(len(inicio)):\n",
    "        recorte[i] = inicio[i][21:42]\n",
    "    return recorte"
   ]
  },
  {
   "cell_type": "code",
   "execution_count": 17,
   "metadata": {},
   "outputs": [],
   "source": [
    "#Recorte de todas las imagenes\n",
    "del dic['images_norm']\n",
    "dic={'im_norm21':[]}\n",
    "for i in range(len(datos['images_norm'])):\n",
    "    dic['im_norm21'].append(recorte(datos['images_norm'][i]))\n",
    "datos.update(dic)"
   ]
  },
  {
   "cell_type": "code",
   "execution_count": 18,
   "metadata": {},
   "outputs": [
    {
     "data": {
      "text/plain": [
       "<matplotlib.image.AxesImage at 0x24a2cdb23d0>"
      ]
     },
     "execution_count": 18,
     "metadata": {},
     "output_type": "execute_result"
    },
    {
     "data": {
      "image/png": "[encoded data removed]",
      "text/plain": [
       "<Figure size 432x288 with 1 Axes>"
      ]
     },
     "metadata": {
      "needs_background": "light"
     },
     "output_type": "display_data"
    }
   ],
   "source": [
    "#Vemos la imagen anterior recortada\n",
    "plt.imshow(datos['im_norm21'][56][:,:,2])"
   ]
  },
  {
   "cell_type": "code",
   "execution_count": 19,
   "metadata": {},
   "outputs": [],
   "source": [
    "# write python dict to a file\n",
    "output = open('ALERCE_stamps_2020_norm.pkl', 'wb')\n",
    "pickle.dump(datos, output)\n",
    "output.close()"
   ]
  },
  {
   "cell_type": "markdown",
   "metadata": {},
   "source": [
    "## Split sets"
   ]
  },
  {
   "cell_type": "code",
   "execution_count": 93,
   "metadata": {},
   "outputs": [],
   "source": [
    "def get_index_cat(cat):\n",
    "    index_list = []\n",
    "    for i in range(len(datos['labels'])):\n",
    "        if datos['labels'][i]==cat:\n",
    "            index_list.append(i)\n",
    "    return index_list"
   ]
  },
  {
   "cell_type": "code",
   "execution_count": 94,
   "metadata": {},
   "outputs": [
    {
     "data": {
      "text/plain": [
       "<matplotlib.image.AxesImage at 0x1cd6657b940>"
      ]
     },
     "execution_count": 94,
     "metadata": {},
     "output_type": "execute_result"
    },
    {
     "data": {
      "image/png": "[encoded data removed]",
      "text/plain": [
       "<Figure size 432x288 with 1 Axes>"
      ]
     },
     "metadata": {
      "needs_background": "light"
     },
     "output_type": "display_data"
    }
   ],
   "source": [
    "#Visulaización de una supernova\n",
    "sn = get_index_cat(1)[212]\n",
    "plt.imshow(datos['im_norm21'][sn][:,:,1])"
   ]
  },
  {
   "cell_type": "code",
   "execution_count": 95,
   "metadata": {
    "scrolled": true
   },
   "outputs": [
    {
     "name": "stdout",
     "output_type": "stream",
     "text": [
      "Número de datos de la categoría 0 : 14742\n",
      "Número de datos de la categoría 1 : 1596\n",
      "Número de datos de la categoría 2 : 14723\n",
      "Número de datos de la categoría 3 : 9799\n",
      "Número de datos de la categoría 4 : 10734\n"
     ]
    }
   ],
   "source": [
    "for k in range(5):\n",
    "    print(\"Número de datos de la categoría\", k, \":\", len(get_index_cat(k)))"
   ]
  },
  {
   "cell_type": "code",
   "execution_count": 13,
   "metadata": {},
   "outputs": [
    {
     "data": {
      "image/png": "[encoded data removed]",
      "text/plain": [
       "<Figure size 432x288 with 1 Axes>"
      ]
     },
     "metadata": {},
     "output_type": "display_data"
    }
   ],
   "source": [
    "#Grafico distribución de datos\n",
    "x=np.array(['Active Galactic Nuclei', 'Supernova', 'Variable Star', 'Asteroid', 'Artifacts'])\n",
    "y=np.array([14742, 1596, 14723, 9799, 10734])\n",
    "explode = [0, 0.4, 0, 0, 0]  # Destacar algunos\n",
    "\n",
    "plt.pie(y, labels=x, explode=explode,\n",
    "        autopct='%1.1f%%', shadow=True, startangle=90)\n",
    "plt.title('Distribución de datos en el Dataset')\n",
    "plt.show()"
   ]
  },
  {
   "cell_type": "markdown",
   "metadata": {},
   "source": [
    "Categorías desbalanceadas"
   ]
  },
  {
   "cell_type": "markdown",
   "metadata": {},
   "source": [
    "### Creación de listas training y validation"
   ]
  },
  {
   "cell_type": "code",
   "execution_count": 96,
   "metadata": {},
   "outputs": [],
   "source": [
    "# Genera listas de índices para train, validation y test\n",
    "def get_sets_index():\n",
    "    val_index=np.array([])\n",
    "    test_index=np.array([])\n",
    "    train_index=np.array([])\n",
    "    for k in range (5):\n",
    "        L=get_index_cat(k)\n",
    "        random.shuffle(L)\n",
    "        test_index=np.append(test_index,L[0:200])\n",
    "        val_index=np.append(val_index,L[200:300])\n",
    "        train_index=np.append(train_index,L[300:])\n",
    "        random.shuffle(test_index)\n",
    "        random.shuffle(val_index)\n",
    "        random.shuffle(train_index)\n",
    "    return train_index, val_index, test_index"
   ]
  },
  {
   "cell_type": "code",
   "execution_count": 97,
   "metadata": {},
   "outputs": [],
   "source": [
    "train_index, val_index, test_index = get_sets_index()"
   ]
  },
  {
   "cell_type": "code",
   "execution_count": 92,
   "metadata": {},
   "outputs": [
    {
     "name": "stdout",
     "output_type": "stream",
     "text": [
      "50094\n",
      "500\n",
      "1000\n"
     ]
    }
   ],
   "source": [
    "#Corroboración dimensional de sets\n",
    "print(len(train_index))\n",
    "print(len(val_index))\n",
    "print(len(test_index))"
   ]
  },
  {
   "cell_type": "code",
   "execution_count": 2,
   "metadata": {},
   "outputs": [],
   "source": [
    "##Crea diccionarios con los sets de datos\n",
    "#def build_sets():\n",
    "#    train_index, val_index, test_index = get_sets_index() #obtenemos los indices\n",
    "#    test_set={'images':[], 'labels':[], 'metadata':[]} #creacion diccionario con testing set\n",
    "#    val_set={'images':[], 'labels':[], 'metadata':[]} #creacion diccionario con validation set\n",
    "#    train_set={'images':[], 'labels':[], 'metadata':[]} #creacion diccionario con training set\n",
    "#    for i in range(len(train_index)): #añade los elementos de los indices de train_index al train_set\n",
    "#        k=int(train_index[i])\n",
    "#        train_set['images'].append(datos['images_norm'][k])\n",
    "#        train_set['labels'].append(datos['labels'][k])\n",
    "#        train_set['metadata'].append(datos['metadata'][k])\n",
    "#    for i in range(len(val_index)): #añade los elementos de los indices de val_index al val_set\n",
    "#        k=int(val_index[i])\n",
    "#        val_set['images'].append(datos['images_norm'][k])\n",
    "#        val_set['labels'].append(datos['labels'][k])\n",
    "#        val_set['metadata'].append(datos['metadata'][k])\n",
    "#    for i in range(len(test_index)): #añade los elementos de los indices de test_index al test_set\n",
    "#        k=int(test_index[i])\n",
    "#        test_set['images'].append(datos['images_norm'][k])\n",
    "#        test_set['labels'].append(datos['labels'][k])\n",
    "#        test_set['metadata'].append(datos['metadata'][k])\n",
    "#    return train_set, val_set, test_set"
   ]
  },
  {
   "cell_type": "code",
   "execution_count": null,
   "metadata": {},
   "outputs": [],
   "source": [
    "#train_set, val_set, test_set=build_sets()\n",
    "#x_train = train_set['images']\n",
    "#x_val = val_set['images']\n",
    "#x_test = test_set['images']\n",
    "#y_train = train_set['labels']\n",
    "#y_val = val_set['labels']\n",
    "#y_test = test_set['labels']"
   ]
  },
  {
   "cell_type": "code",
   "execution_count": 100,
   "metadata": {},
   "outputs": [],
   "source": [
    "def build_sets():\n",
    "    x_train = []\n",
    "    x_val = []\n",
    "    x_test = []\n",
    "    y_train = []\n",
    "    y_val = []\n",
    "    y_test = []\n",
    "    train_index, val_index, test_index = get_sets_index() #obtenemos los indices\n",
    "    for i in range(len(train_index)):\n",
    "        k=int(train_index[i])\n",
    "        x_train.append(datos['im_norm21'][k])\n",
    "        y_train.append(datos['labels'][k])\n",
    "    for i in range(len(val_index)):\n",
    "        k=int(val_index[i])\n",
    "        x_val.append(datos['im_norm21'][k])\n",
    "        y_val.append(datos['labels'][k])\n",
    "    for i in range(len(test_index)):\n",
    "        k=int(test_index[i])\n",
    "        x_test.append(datos['im_norm21'][k])\n",
    "        y_test.append(datos['labels'][k])\n",
    "    return x_train, x_val, x_test, y_train, y_val, y_test"
   ]
  },
  {
   "cell_type": "code",
   "execution_count": 103,
   "metadata": {},
   "outputs": [],
   "source": [
    "x_train, x_val, x_test, y_train, y_val, y_test = build_sets()\n",
    "\n",
    "#no se si combiene pasar a np.array\n",
    "\n",
    "#x_train = np.array(x_train)\n",
    "#x_val = np.array(x_val)\n",
    "#x_test = np.array(x_test)\n",
    "#y_train = np.array(y_train)\n",
    "#y_val = np.array(y_val)\n",
    "#y_test = np.array(y_test)"
   ]
  }
 ],
 "metadata": {
  "kernelspec": {
   "display_name": "Python 3",
   "language": "python",
   "name": "python3"
  },
  "language_info": {
   "codemirror_mode": {
    "name": "ipython",
    "version": 3
   },
   "file_extension": ".py",
   "mimetype": "text/x-python",
   "name": "python",
   "nbconvert_exporter": "python",
   "pygments_lexer": "ipython3",
   "version": "3.8.5"
  }
 },
 "nbformat": 4,
 "nbformat_minor": 4
}
